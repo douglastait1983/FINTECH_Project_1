{
 "cells": [
  {
   "cell_type": "markdown",
   "id": "d867c8c4-d690-44a1-9791-a4463ae61c5c",
   "metadata": {},
   "source": [
    "# Industry Comparison"
   ]
  },
  {
   "cell_type": "markdown",
   "id": "b600981e-7fbc-4d61-924b-91a9b2def144",
   "metadata": {},
   "source": [
    "## Pseudocode\n",
    "1. Download a month worth of trading data for AAPL, AJM and JLL.\n",
    "2. Upload these CSVs before cleaning the data.\n",
    "3. Plot the SD for each stock and the volumen. \n",
    "4. Prepare to use these plots to compare it against the sentiment analysis. "
   ]
  },
  {
   "cell_type": "code",
   "execution_count": 321,
   "id": "35f3f2ac-ea74-41f4-b4be-b6543ef37465",
   "metadata": {},
   "outputs": [],
   "source": [
    "import pandas as pd\n",
    "import numpy as np\n",
    "from pathlib import Path\n",
    "\n",
    "%matplotlib inline\n",
    "import matplotlib.pyplot as plt\n",
    "import matplotlib.dates as mdates\n",
    "from matplotlib.dates import DateFormatter\n",
    "\n",
    "import hvplot.pandas\n",
    "\n",
    "# Handle date time conversions between pandas and matplotlib\n",
    "from pandas.plotting import register_matplotlib_converters\n",
    "register_matplotlib_converters()"
   ]
  },
  {
   "cell_type": "markdown",
   "id": "0155dede-972d-44d4-bb12-96abe2404d6a",
   "metadata": {},
   "source": [
    "### Read CSV Files into DataFrames"
   ]
  },
  {
   "cell_type": "code",
   "execution_count": 322,
   "id": "ac68a267-be1d-4cb5-9ba9-2da6dd574be0",
   "metadata": {},
   "outputs": [
    {
     "data": {
      "text/html": [
       "<div>\n",
       "<style scoped>\n",
       "    .dataframe tbody tr th:only-of-type {\n",
       "        vertical-align: middle;\n",
       "    }\n",
       "\n",
       "    .dataframe tbody tr th {\n",
       "        vertical-align: top;\n",
       "    }\n",
       "\n",
       "    .dataframe thead th {\n",
       "        text-align: right;\n",
       "    }\n",
       "</style>\n",
       "<table border=\"1\" class=\"dataframe\">\n",
       "  <thead>\n",
       "    <tr style=\"text-align: right;\">\n",
       "      <th></th>\n",
       "      <th>Date</th>\n",
       "      <th>AAPL</th>\n",
       "      <th>AMJ</th>\n",
       "      <th>JLL</th>\n",
       "    </tr>\n",
       "  </thead>\n",
       "  <tbody>\n",
       "    <tr>\n",
       "      <th>0</th>\n",
       "      <td>07/06/2022</td>\n",
       "      <td>74064250</td>\n",
       "      <td>405861</td>\n",
       "      <td>401118</td>\n",
       "    </tr>\n",
       "    <tr>\n",
       "      <th>1</th>\n",
       "      <td>07/05/2022</td>\n",
       "      <td>73429640</td>\n",
       "      <td>523628</td>\n",
       "      <td>393082</td>\n",
       "    </tr>\n",
       "    <tr>\n",
       "      <th>2</th>\n",
       "      <td>07/01/2022</td>\n",
       "      <td>71051550</td>\n",
       "      <td>449522</td>\n",
       "      <td>305767</td>\n",
       "    </tr>\n",
       "    <tr>\n",
       "      <th>3</th>\n",
       "      <td>06/30/2022</td>\n",
       "      <td>98964470</td>\n",
       "      <td>266226</td>\n",
       "      <td>675012</td>\n",
       "    </tr>\n",
       "    <tr>\n",
       "      <th>4</th>\n",
       "      <td>06/29/2022</td>\n",
       "      <td>66242410</td>\n",
       "      <td>335995</td>\n",
       "      <td>295287</td>\n",
       "    </tr>\n",
       "  </tbody>\n",
       "</table>\n",
       "</div>"
      ],
      "text/plain": [
       "         Date      AAPL     AMJ     JLL\n",
       "0  07/06/2022  74064250  405861  401118\n",
       "1  07/05/2022  73429640  523628  393082\n",
       "2  07/01/2022  71051550  449522  305767\n",
       "3  06/30/2022  98964470  266226  675012\n",
       "4  06/29/2022  66242410  335995  295287"
      ]
     },
     "execution_count": 322,
     "metadata": {},
     "output_type": "execute_result"
    }
   ],
   "source": [
    "Compare_volume = Path(\"Compare_Volume_202207.csv\")\n",
    "Compare_volume_df = pd.read_csv(Compare_volume)\n",
    "Compare_volume_df.head()"
   ]
  },
  {
   "cell_type": "markdown",
   "id": "d420a270-1fc0-479c-95ed-9460fb7056a5",
   "metadata": {},
   "source": [
    "Fix 'Date' for dataframe"
   ]
  },
  {
   "cell_type": "code",
   "execution_count": 323,
   "id": "54f73904-9a47-48a8-9139-321ec1e6d20e",
   "metadata": {},
   "outputs": [
    {
     "data": {
      "text/html": [
       "<div>\n",
       "<style scoped>\n",
       "    .dataframe tbody tr th:only-of-type {\n",
       "        vertical-align: middle;\n",
       "    }\n",
       "\n",
       "    .dataframe tbody tr th {\n",
       "        vertical-align: top;\n",
       "    }\n",
       "\n",
       "    .dataframe thead th {\n",
       "        text-align: right;\n",
       "    }\n",
       "</style>\n",
       "<table border=\"1\" class=\"dataframe\">\n",
       "  <thead>\n",
       "    <tr style=\"text-align: right;\">\n",
       "      <th></th>\n",
       "      <th>AAPL</th>\n",
       "      <th>AMJ</th>\n",
       "      <th>JLL</th>\n",
       "    </tr>\n",
       "    <tr>\n",
       "      <th>Date</th>\n",
       "      <th></th>\n",
       "      <th></th>\n",
       "      <th></th>\n",
       "    </tr>\n",
       "  </thead>\n",
       "  <tbody>\n",
       "    <tr>\n",
       "      <th>2022-07-06</th>\n",
       "      <td>74064250</td>\n",
       "      <td>405861</td>\n",
       "      <td>401118</td>\n",
       "    </tr>\n",
       "    <tr>\n",
       "      <th>2022-07-05</th>\n",
       "      <td>73429640</td>\n",
       "      <td>523628</td>\n",
       "      <td>393082</td>\n",
       "    </tr>\n",
       "    <tr>\n",
       "      <th>2022-07-01</th>\n",
       "      <td>71051550</td>\n",
       "      <td>449522</td>\n",
       "      <td>305767</td>\n",
       "    </tr>\n",
       "    <tr>\n",
       "      <th>2022-06-30</th>\n",
       "      <td>98964470</td>\n",
       "      <td>266226</td>\n",
       "      <td>675012</td>\n",
       "    </tr>\n",
       "    <tr>\n",
       "      <th>2022-06-29</th>\n",
       "      <td>66242410</td>\n",
       "      <td>335995</td>\n",
       "      <td>295287</td>\n",
       "    </tr>\n",
       "    <tr>\n",
       "      <th>2022-06-28</th>\n",
       "      <td>67315330</td>\n",
       "      <td>573233</td>\n",
       "      <td>327532</td>\n",
       "    </tr>\n",
       "    <tr>\n",
       "      <th>2022-06-27</th>\n",
       "      <td>70207910</td>\n",
       "      <td>906297</td>\n",
       "      <td>299118</td>\n",
       "    </tr>\n",
       "    <tr>\n",
       "      <th>2022-06-24</th>\n",
       "      <td>89116840</td>\n",
       "      <td>507874</td>\n",
       "      <td>432961</td>\n",
       "    </tr>\n",
       "    <tr>\n",
       "      <th>2022-06-23</th>\n",
       "      <td>72433770</td>\n",
       "      <td>593610</td>\n",
       "      <td>483854</td>\n",
       "    </tr>\n",
       "    <tr>\n",
       "      <th>2022-06-22</th>\n",
       "      <td>73409230</td>\n",
       "      <td>939773</td>\n",
       "      <td>456961</td>\n",
       "    </tr>\n",
       "    <tr>\n",
       "      <th>2022-06-21</th>\n",
       "      <td>81000490</td>\n",
       "      <td>614190</td>\n",
       "      <td>643332</td>\n",
       "    </tr>\n",
       "    <tr>\n",
       "      <th>2022-06-17</th>\n",
       "      <td>134520300</td>\n",
       "      <td>446406</td>\n",
       "      <td>1310050</td>\n",
       "    </tr>\n",
       "    <tr>\n",
       "      <th>2022-06-16</th>\n",
       "      <td>107961500</td>\n",
       "      <td>420827</td>\n",
       "      <td>495501</td>\n",
       "    </tr>\n",
       "    <tr>\n",
       "      <th>2022-06-15</th>\n",
       "      <td>91532970</td>\n",
       "      <td>538977</td>\n",
       "      <td>735453</td>\n",
       "    </tr>\n",
       "    <tr>\n",
       "      <th>2022-06-14</th>\n",
       "      <td>84784330</td>\n",
       "      <td>647387</td>\n",
       "      <td>450845</td>\n",
       "    </tr>\n",
       "    <tr>\n",
       "      <th>2022-06-13</th>\n",
       "      <td>122207100</td>\n",
       "      <td>589528</td>\n",
       "      <td>555090</td>\n",
       "    </tr>\n",
       "    <tr>\n",
       "      <th>2022-06-10</th>\n",
       "      <td>91566640</td>\n",
       "      <td>458691</td>\n",
       "      <td>334366</td>\n",
       "    </tr>\n",
       "    <tr>\n",
       "      <th>2022-06-09</th>\n",
       "      <td>69472980</td>\n",
       "      <td>455347</td>\n",
       "      <td>286480</td>\n",
       "    </tr>\n",
       "    <tr>\n",
       "      <th>2022-06-08</th>\n",
       "      <td>53950200</td>\n",
       "      <td>861606</td>\n",
       "      <td>320335</td>\n",
       "    </tr>\n",
       "    <tr>\n",
       "      <th>2022-06-07</th>\n",
       "      <td>67808150</td>\n",
       "      <td>739006</td>\n",
       "      <td>325385</td>\n",
       "    </tr>\n",
       "  </tbody>\n",
       "</table>\n",
       "</div>"
      ],
      "text/plain": [
       "                 AAPL     AMJ      JLL\n",
       "Date                                  \n",
       "2022-07-06   74064250  405861   401118\n",
       "2022-07-05   73429640  523628   393082\n",
       "2022-07-01   71051550  449522   305767\n",
       "2022-06-30   98964470  266226   675012\n",
       "2022-06-29   66242410  335995   295287\n",
       "2022-06-28   67315330  573233   327532\n",
       "2022-06-27   70207910  906297   299118\n",
       "2022-06-24   89116840  507874   432961\n",
       "2022-06-23   72433770  593610   483854\n",
       "2022-06-22   73409230  939773   456961\n",
       "2022-06-21   81000490  614190   643332\n",
       "2022-06-17  134520300  446406  1310050\n",
       "2022-06-16  107961500  420827   495501\n",
       "2022-06-15   91532970  538977   735453\n",
       "2022-06-14   84784330  647387   450845\n",
       "2022-06-13  122207100  589528   555090\n",
       "2022-06-10   91566640  458691   334366\n",
       "2022-06-09   69472980  455347   286480\n",
       "2022-06-08   53950200  861606   320335\n",
       "2022-06-07   67808150  739006   325385"
      ]
     },
     "execution_count": 323,
     "metadata": {},
     "output_type": "execute_result"
    }
   ],
   "source": [
    "Compare_volume_df['Date'] = pd.to_datetime(Compare_volume_df['Date']).dt.date\n",
    "Compare_volume_df.set_index(Compare_volume_df['Date'], inplace=True)\n",
    "Compare_volume_df.drop(columns=['Date'], inplace=True)\n",
    "Compare_volume_df"
   ]
  },
  {
   "cell_type": "code",
   "execution_count": 324,
   "id": "f3fb8b53-c0e9-4601-b47a-61c18b799d9c",
   "metadata": {},
   "outputs": [
    {
     "data": {
      "text/html": [
       "<div>\n",
       "<style scoped>\n",
       "    .dataframe tbody tr th:only-of-type {\n",
       "        vertical-align: middle;\n",
       "    }\n",
       "\n",
       "    .dataframe tbody tr th {\n",
       "        vertical-align: top;\n",
       "    }\n",
       "\n",
       "    .dataframe thead th {\n",
       "        text-align: right;\n",
       "    }\n",
       "</style>\n",
       "<table border=\"1\" class=\"dataframe\">\n",
       "  <thead>\n",
       "    <tr style=\"text-align: right;\">\n",
       "      <th></th>\n",
       "      <th>AAPL</th>\n",
       "      <th>AMJ</th>\n",
       "      <th>JLL</th>\n",
       "    </tr>\n",
       "    <tr>\n",
       "      <th>Date</th>\n",
       "      <th></th>\n",
       "      <th></th>\n",
       "      <th></th>\n",
       "    </tr>\n",
       "  </thead>\n",
       "  <tbody>\n",
       "    <tr>\n",
       "      <th>2022-07-06</th>\n",
       "      <td>74064250</td>\n",
       "      <td>405861</td>\n",
       "      <td>401118</td>\n",
       "    </tr>\n",
       "    <tr>\n",
       "      <th>2022-07-05</th>\n",
       "      <td>73429640</td>\n",
       "      <td>523628</td>\n",
       "      <td>393082</td>\n",
       "    </tr>\n",
       "    <tr>\n",
       "      <th>2022-07-01</th>\n",
       "      <td>71051550</td>\n",
       "      <td>449522</td>\n",
       "      <td>305767</td>\n",
       "    </tr>\n",
       "    <tr>\n",
       "      <th>2022-06-30</th>\n",
       "      <td>98964470</td>\n",
       "      <td>266226</td>\n",
       "      <td>675012</td>\n",
       "    </tr>\n",
       "    <tr>\n",
       "      <th>2022-06-29</th>\n",
       "      <td>66242410</td>\n",
       "      <td>335995</td>\n",
       "      <td>295287</td>\n",
       "    </tr>\n",
       "  </tbody>\n",
       "</table>\n",
       "</div>"
      ],
      "text/plain": [
       "                AAPL     AMJ     JLL\n",
       "Date                                \n",
       "2022-07-06  74064250  405861  401118\n",
       "2022-07-05  73429640  523628  393082\n",
       "2022-07-01  71051550  449522  305767\n",
       "2022-06-30  98964470  266226  675012\n",
       "2022-06-29  66242410  335995  295287"
      ]
     },
     "execution_count": 324,
     "metadata": {},
     "output_type": "execute_result"
    }
   ],
   "source": [
    "#Compare_volume_df.set_index(pd.to_datetime(Compare_volume_df['Date'], infer_datetime_format=True), inplace=True)\n",
    "Compare_volume_df.head()"
   ]
  },
  {
   "cell_type": "code",
   "execution_count": 325,
   "id": "18ab33aa-4b55-4a71-99ba-240654346030",
   "metadata": {},
   "outputs": [
    {
     "data": {
      "text/html": [
       "<div>\n",
       "<style scoped>\n",
       "    .dataframe tbody tr th:only-of-type {\n",
       "        vertical-align: middle;\n",
       "    }\n",
       "\n",
       "    .dataframe tbody tr th {\n",
       "        vertical-align: top;\n",
       "    }\n",
       "\n",
       "    .dataframe thead th {\n",
       "        text-align: right;\n",
       "    }\n",
       "</style>\n",
       "<table border=\"1\" class=\"dataframe\">\n",
       "  <thead>\n",
       "    <tr style=\"text-align: right;\">\n",
       "      <th></th>\n",
       "      <th>AAPL</th>\n",
       "      <th>AMJ</th>\n",
       "      <th>JLL</th>\n",
       "    </tr>\n",
       "    <tr>\n",
       "      <th>Date</th>\n",
       "      <th></th>\n",
       "      <th></th>\n",
       "      <th></th>\n",
       "    </tr>\n",
       "  </thead>\n",
       "  <tbody>\n",
       "    <tr>\n",
       "      <th>2022-07-06</th>\n",
       "      <td>NaN</td>\n",
       "      <td>NaN</td>\n",
       "      <td>NaN</td>\n",
       "    </tr>\n",
       "    <tr>\n",
       "      <th>2022-07-05</th>\n",
       "      <td>-0.008568</td>\n",
       "      <td>0.290166</td>\n",
       "      <td>-0.020034</td>\n",
       "    </tr>\n",
       "    <tr>\n",
       "      <th>2022-07-01</th>\n",
       "      <td>-0.032386</td>\n",
       "      <td>-0.141524</td>\n",
       "      <td>-0.222129</td>\n",
       "    </tr>\n",
       "    <tr>\n",
       "      <th>2022-06-30</th>\n",
       "      <td>0.392854</td>\n",
       "      <td>-0.407758</td>\n",
       "      <td>1.207603</td>\n",
       "    </tr>\n",
       "    <tr>\n",
       "      <th>2022-06-29</th>\n",
       "      <td>-0.330645</td>\n",
       "      <td>0.262067</td>\n",
       "      <td>-0.562546</td>\n",
       "    </tr>\n",
       "    <tr>\n",
       "      <th>2022-06-28</th>\n",
       "      <td>0.016197</td>\n",
       "      <td>0.706076</td>\n",
       "      <td>0.109199</td>\n",
       "    </tr>\n",
       "    <tr>\n",
       "      <th>2022-06-27</th>\n",
       "      <td>0.042971</td>\n",
       "      <td>0.581027</td>\n",
       "      <td>-0.086752</td>\n",
       "    </tr>\n",
       "    <tr>\n",
       "      <th>2022-06-24</th>\n",
       "      <td>0.269328</td>\n",
       "      <td>-0.439616</td>\n",
       "      <td>0.447459</td>\n",
       "    </tr>\n",
       "    <tr>\n",
       "      <th>2022-06-23</th>\n",
       "      <td>-0.187204</td>\n",
       "      <td>0.168814</td>\n",
       "      <td>0.117546</td>\n",
       "    </tr>\n",
       "    <tr>\n",
       "      <th>2022-06-22</th>\n",
       "      <td>0.013467</td>\n",
       "      <td>0.583149</td>\n",
       "      <td>-0.055581</td>\n",
       "    </tr>\n",
       "    <tr>\n",
       "      <th>2022-06-21</th>\n",
       "      <td>0.103410</td>\n",
       "      <td>-0.346449</td>\n",
       "      <td>0.407849</td>\n",
       "    </tr>\n",
       "    <tr>\n",
       "      <th>2022-06-17</th>\n",
       "      <td>0.660734</td>\n",
       "      <td>-0.273179</td>\n",
       "      <td>1.036351</td>\n",
       "    </tr>\n",
       "    <tr>\n",
       "      <th>2022-06-16</th>\n",
       "      <td>-0.197433</td>\n",
       "      <td>-0.057300</td>\n",
       "      <td>-0.621769</td>\n",
       "    </tr>\n",
       "    <tr>\n",
       "      <th>2022-06-15</th>\n",
       "      <td>-0.152170</td>\n",
       "      <td>0.280757</td>\n",
       "      <td>0.484261</td>\n",
       "    </tr>\n",
       "    <tr>\n",
       "      <th>2022-06-14</th>\n",
       "      <td>-0.073729</td>\n",
       "      <td>0.201140</td>\n",
       "      <td>-0.386983</td>\n",
       "    </tr>\n",
       "    <tr>\n",
       "      <th>2022-06-13</th>\n",
       "      <td>0.441388</td>\n",
       "      <td>-0.089373</td>\n",
       "      <td>0.231221</td>\n",
       "    </tr>\n",
       "    <tr>\n",
       "      <th>2022-06-10</th>\n",
       "      <td>-0.250726</td>\n",
       "      <td>-0.221935</td>\n",
       "      <td>-0.397636</td>\n",
       "    </tr>\n",
       "    <tr>\n",
       "      <th>2022-06-09</th>\n",
       "      <td>-0.241285</td>\n",
       "      <td>-0.007290</td>\n",
       "      <td>-0.143214</td>\n",
       "    </tr>\n",
       "    <tr>\n",
       "      <th>2022-06-08</th>\n",
       "      <td>-0.223436</td>\n",
       "      <td>0.892197</td>\n",
       "      <td>0.118176</td>\n",
       "    </tr>\n",
       "    <tr>\n",
       "      <th>2022-06-07</th>\n",
       "      <td>0.256866</td>\n",
       "      <td>-0.142292</td>\n",
       "      <td>0.015765</td>\n",
       "    </tr>\n",
       "  </tbody>\n",
       "</table>\n",
       "</div>"
      ],
      "text/plain": [
       "                AAPL       AMJ       JLL\n",
       "Date                                    \n",
       "2022-07-06       NaN       NaN       NaN\n",
       "2022-07-05 -0.008568  0.290166 -0.020034\n",
       "2022-07-01 -0.032386 -0.141524 -0.222129\n",
       "2022-06-30  0.392854 -0.407758  1.207603\n",
       "2022-06-29 -0.330645  0.262067 -0.562546\n",
       "2022-06-28  0.016197  0.706076  0.109199\n",
       "2022-06-27  0.042971  0.581027 -0.086752\n",
       "2022-06-24  0.269328 -0.439616  0.447459\n",
       "2022-06-23 -0.187204  0.168814  0.117546\n",
       "2022-06-22  0.013467  0.583149 -0.055581\n",
       "2022-06-21  0.103410 -0.346449  0.407849\n",
       "2022-06-17  0.660734 -0.273179  1.036351\n",
       "2022-06-16 -0.197433 -0.057300 -0.621769\n",
       "2022-06-15 -0.152170  0.280757  0.484261\n",
       "2022-06-14 -0.073729  0.201140 -0.386983\n",
       "2022-06-13  0.441388 -0.089373  0.231221\n",
       "2022-06-10 -0.250726 -0.221935 -0.397636\n",
       "2022-06-09 -0.241285 -0.007290 -0.143214\n",
       "2022-06-08 -0.223436  0.892197  0.118176\n",
       "2022-06-07  0.256866 -0.142292  0.015765"
      ]
     },
     "execution_count": 325,
     "metadata": {},
     "output_type": "execute_result"
    }
   ],
   "source": [
    "Compare_volume_return = Compare_volume_df.pct_change()\n",
    "Compare_volume_return.isnull().mean() * 100 \n",
    "Compare__volume_return = Compare_volume_return.dropna().copy()\n",
    "Compare_volume_return.isnull().sum()\n",
    "Compare_volume_return"
   ]
  },
  {
   "cell_type": "code",
   "execution_count": 326,
   "id": "b701a2e7-a46d-4c88-8687-22fac84e6842",
   "metadata": {},
   "outputs": [
    {
     "data": {
      "image/png": "[encoded data removed]",
      "text/plain": [
       "<Figure size 1440x288 with 1 Axes>"
      ]
     },
     "metadata": {
      "needs_background": "light"
     },
     "output_type": "display_data"
    }
   ],
   "source": [
    "Compare_volume_return.plot.bar(figsize=(20,4),rot=90)\n",
    "plt.tight_layout()\n",
    "plt.savefig('Compare_volume.png')"
   ]
  },
  {
   "cell_type": "markdown",
   "id": "3a1082ec-07d6-4ea6-bbf4-aa90690b8e7a",
   "metadata": {},
   "source": [
    "## Compare Closing"
   ]
  },
  {
   "cell_type": "markdown",
   "id": "ae49b7d0-7c89-4f6d-b5ad-add0be5f6aa2",
   "metadata": {},
   "source": [
    "### Read CSV Files into DataFrames"
   ]
  },
  {
   "cell_type": "code",
   "execution_count": 327,
   "id": "dd4d72aa-f81e-4b22-9113-6d0a6204ff99",
   "metadata": {},
   "outputs": [
    {
     "data": {
      "text/html": [
       "<div>\n",
       "<style scoped>\n",
       "    .dataframe tbody tr th:only-of-type {\n",
       "        vertical-align: middle;\n",
       "    }\n",
       "\n",
       "    .dataframe tbody tr th {\n",
       "        vertical-align: top;\n",
       "    }\n",
       "\n",
       "    .dataframe thead th {\n",
       "        text-align: right;\n",
       "    }\n",
       "</style>\n",
       "<table border=\"1\" class=\"dataframe\">\n",
       "  <thead>\n",
       "    <tr style=\"text-align: right;\">\n",
       "      <th></th>\n",
       "      <th>Date</th>\n",
       "      <th>AAPL</th>\n",
       "      <th>AMJ</th>\n",
       "      <th>JLL</th>\n",
       "    </tr>\n",
       "  </thead>\n",
       "  <tbody>\n",
       "    <tr>\n",
       "      <th>0</th>\n",
       "      <td>07/06/2022</td>\n",
       "      <td>$142.92</td>\n",
       "      <td>18.32</td>\n",
       "      <td>$173.04</td>\n",
       "    </tr>\n",
       "    <tr>\n",
       "      <th>1</th>\n",
       "      <td>07/05/2022</td>\n",
       "      <td>$141.56</td>\n",
       "      <td>18.66</td>\n",
       "      <td>$180.63</td>\n",
       "    </tr>\n",
       "    <tr>\n",
       "      <th>2</th>\n",
       "      <td>07/01/2022</td>\n",
       "      <td>$138.93</td>\n",
       "      <td>19.18</td>\n",
       "      <td>$181.17</td>\n",
       "    </tr>\n",
       "    <tr>\n",
       "      <th>3</th>\n",
       "      <td>06/30/2022</td>\n",
       "      <td>$136.72</td>\n",
       "      <td>18.96</td>\n",
       "      <td>$174.86</td>\n",
       "    </tr>\n",
       "    <tr>\n",
       "      <th>4</th>\n",
       "      <td>06/29/2022</td>\n",
       "      <td>$139.23</td>\n",
       "      <td>19.13</td>\n",
       "      <td>$176.63</td>\n",
       "    </tr>\n",
       "  </tbody>\n",
       "</table>\n",
       "</div>"
      ],
      "text/plain": [
       "         Date     AAPL    AMJ      JLL\n",
       "0  07/06/2022  $142.92  18.32  $173.04\n",
       "1  07/05/2022  $141.56  18.66  $180.63\n",
       "2  07/01/2022  $138.93  19.18  $181.17\n",
       "3  06/30/2022  $136.72  18.96  $174.86\n",
       "4  06/29/2022  $139.23  19.13  $176.63"
      ]
     },
     "execution_count": 327,
     "metadata": {},
     "output_type": "execute_result"
    }
   ],
   "source": [
    "Compare_closing = Path(\"Compare_Closing_202207.csv\")\n",
    "Compare_closing_df = pd.read_csv(Compare_closing)\n",
    "Compare_closing_df.head()"
   ]
  },
  {
   "cell_type": "markdown",
   "id": "43c128f7-2f09-49e0-b118-11e9bbb79cf2",
   "metadata": {},
   "source": [
    "Fix 'Date' for dataframe"
   ]
  },
  {
   "cell_type": "code",
   "execution_count": 328,
   "id": "8a848f37-9849-4dd9-b75f-92ba573a6cbf",
   "metadata": {},
   "outputs": [
    {
     "data": {
      "text/html": [
       "<div>\n",
       "<style scoped>\n",
       "    .dataframe tbody tr th:only-of-type {\n",
       "        vertical-align: middle;\n",
       "    }\n",
       "\n",
       "    .dataframe tbody tr th {\n",
       "        vertical-align: top;\n",
       "    }\n",
       "\n",
       "    .dataframe thead th {\n",
       "        text-align: right;\n",
       "    }\n",
       "</style>\n",
       "<table border=\"1\" class=\"dataframe\">\n",
       "  <thead>\n",
       "    <tr style=\"text-align: right;\">\n",
       "      <th></th>\n",
       "      <th>AAPL</th>\n",
       "      <th>AMJ</th>\n",
       "      <th>JLL</th>\n",
       "    </tr>\n",
       "    <tr>\n",
       "      <th>Date</th>\n",
       "      <th></th>\n",
       "      <th></th>\n",
       "      <th></th>\n",
       "    </tr>\n",
       "  </thead>\n",
       "  <tbody>\n",
       "    <tr>\n",
       "      <th>2022-07-06</th>\n",
       "      <td>$142.92</td>\n",
       "      <td>18.32</td>\n",
       "      <td>$173.04</td>\n",
       "    </tr>\n",
       "    <tr>\n",
       "      <th>2022-07-05</th>\n",
       "      <td>$141.56</td>\n",
       "      <td>18.66</td>\n",
       "      <td>$180.63</td>\n",
       "    </tr>\n",
       "    <tr>\n",
       "      <th>2022-07-01</th>\n",
       "      <td>$138.93</td>\n",
       "      <td>19.18</td>\n",
       "      <td>$181.17</td>\n",
       "    </tr>\n",
       "    <tr>\n",
       "      <th>2022-06-30</th>\n",
       "      <td>$136.72</td>\n",
       "      <td>18.96</td>\n",
       "      <td>$174.86</td>\n",
       "    </tr>\n",
       "    <tr>\n",
       "      <th>2022-06-29</th>\n",
       "      <td>$139.23</td>\n",
       "      <td>19.13</td>\n",
       "      <td>$176.63</td>\n",
       "    </tr>\n",
       "  </tbody>\n",
       "</table>\n",
       "</div>"
      ],
      "text/plain": [
       "               AAPL    AMJ      JLL\n",
       "Date                               \n",
       "2022-07-06  $142.92  18.32  $173.04\n",
       "2022-07-05  $141.56  18.66  $180.63\n",
       "2022-07-01  $138.93  19.18  $181.17\n",
       "2022-06-30  $136.72  18.96  $174.86\n",
       "2022-06-29  $139.23  19.13  $176.63"
      ]
     },
     "execution_count": 328,
     "metadata": {},
     "output_type": "execute_result"
    }
   ],
   "source": [
    "Compare_closing_df['Date'] = pd.to_datetime(Compare_closing_df['Date']).dt.date\n",
    "Compare_closing_df.set_index(Compare_closing_df['Date'], inplace=True)\n",
    "Compare_closing_df.drop(columns=['Date'], inplace=True)\n",
    "Compare_closing_df.head()"
   ]
  },
  {
   "cell_type": "code",
   "execution_count": 329,
   "id": "c8bf4be9-8e99-4ae9-a435-274548f67e95",
   "metadata": {},
   "outputs": [
    {
     "data": {
      "text/plain": [
       "AAPL     object\n",
       "AMJ     float64\n",
       "JLL      object\n",
       "dtype: object"
      ]
     },
     "execution_count": 329,
     "metadata": {},
     "output_type": "execute_result"
    }
   ],
   "source": [
    "Compare_closing_df.dtypes"
   ]
  },
  {
   "cell_type": "markdown",
   "id": "20675bac-a23e-4da9-b855-afece3334b69",
   "metadata": {},
   "source": [
    "Fix Data Types: Convert Closing Column to Float"
   ]
  },
  {
   "cell_type": "code",
   "execution_count": 330,
   "id": "959ed12f-0495-4ce2-8134-542e6b2e5f1b",
   "metadata": {},
   "outputs": [
    {
     "data": {
      "text/plain": [
       "AAPL    float64\n",
       "AMJ     float64\n",
       "JLL      object\n",
       "dtype: object"
      ]
     },
     "execution_count": 330,
     "metadata": {},
     "output_type": "execute_result"
    }
   ],
   "source": [
    "Compare_closing_df [\"AAPL\"] = Compare_closing_df[\"AAPL\"].str.replace(\"$\", \"\", regex=True).str.replace(\",\",\"\", regex=True).astype(float)\n",
    "Compare_closing_df.dtypes"
   ]
  },
  {
   "cell_type": "code",
   "execution_count": 331,
   "id": "53cd597f-5ba0-431f-8f58-25e9397d2dd4",
   "metadata": {},
   "outputs": [
    {
     "data": {
      "text/plain": [
       "AAPL    float64\n",
       "AMJ     float64\n",
       "JLL     float64\n",
       "dtype: object"
      ]
     },
     "execution_count": 331,
     "metadata": {},
     "output_type": "execute_result"
    }
   ],
   "source": [
    "Compare_closing_df [\"JLL\"] = Compare_closing_df[\"JLL\"].str.replace(\"$\", \"\", regex=True).str.replace(\",\",\"\", regex=True).astype(float)\n",
    "Compare_closing_df.dtypes"
   ]
  },
  {
   "cell_type": "code",
   "execution_count": 332,
   "id": "a1ae32f9-cb48-4d10-bcc3-39701d433da2",
   "metadata": {},
   "outputs": [
    {
     "data": {
      "text/html": [
       "<div>\n",
       "<style scoped>\n",
       "    .dataframe tbody tr th:only-of-type {\n",
       "        vertical-align: middle;\n",
       "    }\n",
       "\n",
       "    .dataframe tbody tr th {\n",
       "        vertical-align: top;\n",
       "    }\n",
       "\n",
       "    .dataframe thead th {\n",
       "        text-align: right;\n",
       "    }\n",
       "</style>\n",
       "<table border=\"1\" class=\"dataframe\">\n",
       "  <thead>\n",
       "    <tr style=\"text-align: right;\">\n",
       "      <th></th>\n",
       "      <th>AAPL</th>\n",
       "      <th>AMJ</th>\n",
       "      <th>JLL</th>\n",
       "    </tr>\n",
       "    <tr>\n",
       "      <th>Date</th>\n",
       "      <th></th>\n",
       "      <th></th>\n",
       "      <th></th>\n",
       "    </tr>\n",
       "  </thead>\n",
       "  <tbody>\n",
       "    <tr>\n",
       "      <th>2022-07-06</th>\n",
       "      <td>NaN</td>\n",
       "      <td>NaN</td>\n",
       "      <td>NaN</td>\n",
       "    </tr>\n",
       "    <tr>\n",
       "      <th>2022-07-05</th>\n",
       "      <td>-0.009516</td>\n",
       "      <td>0.018559</td>\n",
       "      <td>0.043863</td>\n",
       "    </tr>\n",
       "    <tr>\n",
       "      <th>2022-07-01</th>\n",
       "      <td>-0.018579</td>\n",
       "      <td>0.027867</td>\n",
       "      <td>0.002990</td>\n",
       "    </tr>\n",
       "    <tr>\n",
       "      <th>2022-06-30</th>\n",
       "      <td>-0.015907</td>\n",
       "      <td>-0.011470</td>\n",
       "      <td>-0.034829</td>\n",
       "    </tr>\n",
       "    <tr>\n",
       "      <th>2022-06-29</th>\n",
       "      <td>0.018359</td>\n",
       "      <td>0.008966</td>\n",
       "      <td>0.010122</td>\n",
       "    </tr>\n",
       "  </tbody>\n",
       "</table>\n",
       "</div>"
      ],
      "text/plain": [
       "                AAPL       AMJ       JLL\n",
       "Date                                    \n",
       "2022-07-06       NaN       NaN       NaN\n",
       "2022-07-05 -0.009516  0.018559  0.043863\n",
       "2022-07-01 -0.018579  0.027867  0.002990\n",
       "2022-06-30 -0.015907 -0.011470 -0.034829\n",
       "2022-06-29  0.018359  0.008966  0.010122"
      ]
     },
     "execution_count": 332,
     "metadata": {},
     "output_type": "execute_result"
    }
   ],
   "source": [
    "Compare_closing_returns = Compare_closing_df.pct_change()\n",
    "Compare_closing_returns.head()"
   ]
  },
  {
   "cell_type": "code",
   "execution_count": 333,
   "id": "5db95155-5a52-4ffd-b541-54dbff4fe727",
   "metadata": {},
   "outputs": [
    {
     "data": {
      "text/plain": [
       "AAPL    5.0\n",
       "AMJ     5.0\n",
       "JLL     5.0\n",
       "dtype: float64"
      ]
     },
     "execution_count": 333,
     "metadata": {},
     "output_type": "execute_result"
    }
   ],
   "source": [
    "Compare_closing_returns.isnull().mean() * 100 "
   ]
  },
  {
   "cell_type": "code",
   "execution_count": 334,
   "id": "464ecd4a-e7e8-4c2e-9bba-4b2f40b2b89c",
   "metadata": {},
   "outputs": [],
   "source": [
    "Compare_closing_returns = Compare_returns.dropna().copy()"
   ]
  },
  {
   "cell_type": "code",
   "execution_count": 335,
   "id": "2fc9e420-a34d-4670-a341-533f4204ccae",
   "metadata": {},
   "outputs": [
    {
     "data": {
      "text/plain": [
       "AAPL    0\n",
       "AMJ     0\n",
       "JLL     0\n",
       "dtype: int64"
      ]
     },
     "execution_count": 335,
     "metadata": {},
     "output_type": "execute_result"
    }
   ],
   "source": [
    "Compare_closing_returns.isnull().sum()"
   ]
  },
  {
   "cell_type": "markdown",
   "id": "3a55f271-4f7d-40f4-afd2-03ab600dc8c3",
   "metadata": {},
   "source": [
    "## Calculate and Plot Daily Returns"
   ]
  },
  {
   "cell_type": "code",
   "execution_count": 336,
   "id": "de964030-4b6d-4126-9562-b072701ffb15",
   "metadata": {},
   "outputs": [
    {
     "data": {
      "image/png": "[encoded data removed]",
      "text/plain": [
       "<Figure size 1440x288 with 1 Axes>"
      ]
     },
     "metadata": {
      "needs_background": "light"
     },
     "output_type": "display_data"
    }
   ],
   "source": [
    "Compare_closing_returns.plot.bar(figsize=(20,4),rot=90)\n",
    "plt.tight_layout()\n",
    "plt.savefig('Compare_closing.png')"
   ]
  },
  {
   "cell_type": "code",
   "execution_count": 337,
   "id": "3cef560f-08d7-4cd4-831e-dd95620c245b",
   "metadata": {},
   "outputs": [
    {
     "data": {
      "text/plain": [
       "<Figure size 432x288 with 0 Axes>"
      ]
     },
     "metadata": {},
     "output_type": "display_data"
    },
    {
     "data": {
      "image/png": "[encoded data removed]",
      "text/plain": [
       "<Figure size 1800x360 with 1 Axes>"
      ]
     },
     "metadata": {
      "needs_background": "light"
     },
     "output_type": "display_data"
    }
   ],
   "source": [
    "# Calculate cumulative returns of all portfolios\n",
    "Compare_closing_returns = (1 + Compare_closing_returns).cumprod() - 1\n",
    "Compare_closing_returns\n",
    "# Plot Cumulative returns\n",
    "plt.tight_layout()\n",
    "Compare_closing_returns.plot(figsize=(25,5),rot=90, title=\"Month Returns for 3 Different Industry Stocks\")\n",
    "plt.savefig('Cumulative_returns_3_stock.png')"
   ]
  },
  {
   "cell_type": "code",
   "execution_count": null,
   "id": "708f45b1-1872-4eed-9a60-4ec222a70271",
   "metadata": {},
   "outputs": [],
   "source": []
  },
  {
   "cell_type": "code",
   "execution_count": null,
   "id": "3bb3b030-139f-470d-b3fc-5e923996622b",
   "metadata": {},
   "outputs": [],
   "source": []
  }
 ],
 "metadata": {
  "kernelspec": {
   "display_name": "Python 3 (ipykernel)",
   "language": "python",
   "name": "python3"
  },
  "language_info": {
   "codemirror_mode": {
    "name": "ipython",
    "version": 3
   },
   "file_extension": ".py",
   "mimetype": "text/x-python",
   "name": "python",
   "nbconvert_exporter": "python",
   "pygments_lexer": "ipython3",
   "version": "3.7.11"
  }
 },
 "nbformat": 4,
 "nbformat_minor": 5
}
